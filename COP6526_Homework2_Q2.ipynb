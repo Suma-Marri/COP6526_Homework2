{
  "nbformat": 4,
  "nbformat_minor": 0,
  "metadata": {
    "colab": {
      "provenance": [],
      "toc_visible": true,
      "authorship_tag": "ABX9TyN4euM0F/bCcvaM5Qt/uiTH",
      "include_colab_link": true
    },
    "kernelspec": {
      "name": "python3",
      "display_name": "Python 3"
    },
    "language_info": {
      "name": "python"
    }
  },
  "cells": [
    {
      "cell_type": "markdown",
      "metadata": {
        "id": "view-in-github",
        "colab_type": "text"
      },
      "source": [
        "<a href=\"https://colab.research.google.com/github/Suma-Marri/COP6526_Homework2/blob/main/COP6526_Homework2_Q2.ipynb\" target=\"_parent\"><img src=\"https://colab.research.google.com/assets/colab-badge.svg\" alt=\"Open In Colab\"/></a>"
      ]
    },
    {
      "cell_type": "markdown",
      "source": [
        "Question 2\n",
        "\n",
        "(1) Design a PySpark program to do logistic regression using \"LogisticRegression\" in \"pyspark.ml.classification\", with the dataset data_logistic_regression.csvDownload data_logistic_regression.csv. (7 points)\n",
        "\n",
        "(2) Please draw a ROC curse using \"matplotlib.pyplot\". Its x-axis is \"False Positive Rate\", and y-axis is  \"True Positive Rate\". (3 points)"
      ],
      "metadata": {
        "id": "UPdcNO2rDwpg"
      }
    },
    {
      "cell_type": "code",
      "source": [
        "!pip install findspark"
      ],
      "metadata": {
        "colab": {
          "base_uri": "https://localhost:8080/"
        },
        "id": "HonNVlXPk7mp",
        "outputId": "ecb88ee5-237c-4b20-d299-66e81e528d14"
      },
      "execution_count": 1,
      "outputs": [
        {
          "output_type": "stream",
          "name": "stdout",
          "text": [
            "Looking in indexes: https://pypi.org/simple, https://us-python.pkg.dev/colab-wheels/public/simple/\n",
            "Requirement already satisfied: findspark in /usr/local/lib/python3.7/dist-packages (2.0.1)\n"
          ]
        }
      ]
    },
    {
      "cell_type": "code",
      "execution_count": 4,
      "metadata": {
        "id": "m4IJSveiDgrr",
        "colab": {
          "base_uri": "https://localhost:8080/"
        },
        "outputId": "69f8fde0-bec2-4f49-b8ed-7202dcced4d5"
      },
      "outputs": [
        {
          "output_type": "stream",
          "name": "stdout",
          "text": [
            "Mounted at /content/drive\n"
          ]
        }
      ],
      "source": [
        "!apt-get install openjdk-8-jdk-headless -qq > /dev/null\n",
        "!wget -q https://archive.apache.org/dist/spark/spark-3.1.2/spark-3.1.2-bin-hadoop2.7.tgz\n",
        "!tar xf spark-3.1.2-bin-hadoop2.7.tgz\n",
        "\n",
        "import os\n",
        "os.environ[\"JAVA_HOME\"] = \"/usr/lib/jvm/java-8-openjdk-amd64\"\n",
        "os.environ[\"SPARK_HOME\"] = \"/content/spark-3.1.2-bin-hadoop2.7\"\n",
        "\n",
        "from google.colab import drive\n",
        "drive.mount('/content/drive')\n",
        "\n",
        "import findspark\n",
        "findspark.init()\n",
        "\n",
        "import pyspark\n",
        "from pyspark.sql import SparkSession\n",
        "\n",
        "spark = SparkSession.builder\\\n",
        "        .master(\"local\")\\\n",
        "        .appName(\"Colab\")\\\n",
        "        .config('spark.ui.port', '4050')\\\n",
        "        .getOrCreate()"
      ]
    },
    {
      "cell_type": "code",
      "source": [
        "df = spark.read.csv(\"/content/drive/MyDrive/data_logistic_regression.csv\", header = True, inferSchema = True)\n",
        "df.show()"
      ],
      "metadata": {
        "colab": {
          "base_uri": "https://localhost:8080/"
        },
        "id": "4l-6RR6zDtT5",
        "outputId": "4f7dbfe6-d2f3-49f0-bc4f-7baa5eb653f4"
      },
      "execution_count": 6,
      "outputs": [
        {
          "output_type": "execute_result",
          "data": {
            "text/plain": [
              "DataFrame[x1: double, x2: double, label: int]"
            ]
          },
          "metadata": {},
          "execution_count": 6
        }
      ]
    },
    {
      "cell_type": "code",
      "source": [
        "from pyspark.ml.feature import VectorAssembler\n",
        "\n",
        "assembler = VectorAssembler(inputCols = ('x1','x2'), outputCol= 'features')\n",
        "\n",
        "assembler_df = assembler.transform(df)"
      ],
      "metadata": {
        "id": "AkrUXeTAmwUN"
      },
      "execution_count": 7,
      "outputs": []
    },
    {
      "cell_type": "code",
      "source": [
        "train, test = df.randomSplit([0.7, 0.3], seed = 123)\n",
        "print(\"Training Count: \" + str(train.count()))\n",
        "print(\"Test Count: \" + str(test.count()))"
      ],
      "metadata": {
        "colab": {
          "base_uri": "https://localhost:8080/"
        },
        "id": "fO-FnGLvnC4i",
        "outputId": "d531a19b-026b-470b-f96e-2804d65cc19b"
      },
      "execution_count": 8,
      "outputs": [
        {
          "output_type": "stream",
          "name": "stdout",
          "text": [
            "Training Dataset Count: 55\n",
            "Test Dataset Count: 25\n"
          ]
        }
      ]
    },
    {
      "cell_type": "code",
      "source": [
        "from pyspark.ml.classification import LogisticRegression\n",
        "from pyspark.ml import Pipeline\n",
        "lr = LogisticRegression(maxIter=10, regParam=0.001)\n",
        "pipeline = Pipeline(stages=[assembler, lr])\n",
        "model = pipeline.fit(train) \n",
        "# model1 = pipeline.fit(test)\n",
        "predictions = model.transform(test)"
      ],
      "metadata": {
        "id": "E8W9GBFFnDzQ"
      },
      "execution_count": 9,
      "outputs": []
    },
    {
      "cell_type": "code",
      "source": [
        "predictions.show(5)"
      ],
      "metadata": {
        "colab": {
          "base_uri": "https://localhost:8080/"
        },
        "id": "V_0Bkd5DnNRn",
        "outputId": "9956c80c-12eb-435f-8b2a-ce58ea0b9d85"
      },
      "execution_count": 10,
      "outputs": [
        {
          "output_type": "stream",
          "name": "stdout",
          "text": [
            "+-----------+-----------+-----+--------------------+--------------------+--------------------+----------+\n",
            "|         x1|         x2|label|            features|       rawPrediction|         probability|prediction|\n",
            "+-----------+-----------+-----+--------------------+--------------------+--------------------+----------+\n",
            "|33.91550011|98.86943574|    0|[33.91550011,98.8...|[-2.8539067896537...|[0.05447972128038...|       1.0|\n",
            "| 38.7858038|64.99568096|    0|[38.7858038,64.99...|[0.72216952806087...|[0.67308458291371...|       0.0|\n",
            "|42.07545454|  78.844786|    0|[42.07545454,78.8...|[-1.0710455133625...|[0.25520430729188...|       1.0|\n",
            "|47.26426911|  88.475865|    1|[47.26426911,88.4...|[-2.5000243606409...|[0.07585647226742...|       1.0|\n",
            "|49.07256322|51.88321182|    0|[49.07256322,51.8...|[1.57961662297232...|[0.82915021558891...|       0.0|\n",
            "+-----------+-----------+-----+--------------------+--------------------+--------------------+----------+\n",
            "only showing top 5 rows\n",
            "\n"
          ]
        }
      ]
    },
    {
      "cell_type": "code",
      "source": [
        "from pyspark.ml.evaluation import BinaryClassificationEvaluator\n",
        "evaluator = BinaryClassificationEvaluator()\n",
        "print('Test Area Under ROC', evaluator.evaluate(predictions))"
      ],
      "metadata": {
        "colab": {
          "base_uri": "https://localhost:8080/"
        },
        "id": "w-ZpKJQSnTZ9",
        "outputId": "090960ce-e0a0-4866-cd67-f3fdbd0b62f9"
      },
      "execution_count": 11,
      "outputs": [
        {
          "output_type": "stream",
          "name": "stdout",
          "text": [
            "Test Area Under ROC 0.9266666666666666\n"
          ]
        }
      ]
    },
    {
      "cell_type": "code",
      "source": [
        "import matplotlib.pyplot as plt\n",
        "predict = model.stages[-1].summary\n",
        "roc = predict.roc.toPandas()\n",
        "plt.plot(roc['FPR'],roc['TPR'])\n",
        "plt.ylabel('True Positive Rate')\n",
        "plt.xlabel('False Positive Rate')\n",
        "plt.title('ROC Curve')\n",
        "plt.show()\n",
        "\n",
        "print('Area Under ROC: ' + str(predict.areaUnderROC))"
      ],
      "metadata": {
        "colab": {
          "base_uri": "https://localhost:8080/",
          "height": 312
        },
        "id": "mXN2n_8onXHp",
        "outputId": "85db82ea-b61c-4ad9-9548-bfa0622e5330"
      },
      "execution_count": 12,
      "outputs": [
        {
          "output_type": "display_data",
          "data": {
            "text/plain": [
              "<Figure size 432x288 with 1 Axes>"
            ],
            "image/png": "[encoded data removed]"
          },
          "metadata": {
            "needs_background": "light"
          }
        },
        {
          "output_type": "stream",
          "name": "stdout",
          "text": [
            "Area Under ROC: 0.9504132231404959\n"
          ]
        }
      ]
    }
  ]
}
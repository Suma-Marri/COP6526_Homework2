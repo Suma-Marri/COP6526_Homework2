{
  "nbformat": 4,
  "nbformat_minor": 0,
  "metadata": {
    "colab": {
      "provenance": [],
      "collapsed_sections": [],
      "authorship_tag": "ABX9TyOSrcM6n2LGlNmeNYmHYAMR",
      "include_colab_link": true
    },
    "kernelspec": {
      "name": "python3",
      "display_name": "Python 3"
    },
    "language_info": {
      "name": "python"
    }
  },
  "cells": [
    {
      "cell_type": "markdown",
      "metadata": {
        "id": "view-in-github",
        "colab_type": "text"
      },
      "source": [
        "<a href=\"https://colab.research.google.com/github/Suma-Marri/COP6526_Homework2/blob/main/COP6526_Homework2_Q3.ipynb\" target=\"_parent\"><img src=\"https://colab.research.google.com/assets/colab-badge.svg\" alt=\"Open In Colab\"/></a>"
      ]
    },
    {
      "cell_type": "markdown",
      "source": [
        "Question 3\n",
        "\n",
        "Design a PySpark program to implement Prim’s algorithm for Minimum Spanning Tree for the following graph. You may define your own file format for the graph below.  (10 points)"
      ],
      "metadata": {
        "id": "FGrsKrxhtsK8"
      }
    },
    {
      "cell_type": "code",
      "execution_count": 11,
      "metadata": {
        "colab": {
          "base_uri": "https://localhost:8080/"
        },
        "id": "3gRMRDCMti5t",
        "outputId": "6bec8485-84e7-4852-df0c-32aa278c457a"
      },
      "outputs": [
        {
          "output_type": "stream",
          "name": "stdout",
          "text": [
            "Edge : Weight\n",
            "\n",
            "1-2:4\n",
            "1-3:8\n",
            "3-6:1\n",
            "6-7:2\n",
            "7-5:4\n",
            "5-4:2\n",
            "5-8:7\n",
            "8-9:9\n"
          ]
        }
      ],
      "source": [
        "# Prim's Algorithm in Python\n",
        "\n",
        "INF = 9999999\n",
        "\n",
        "# number of vertices in graph\n",
        "N = 9\n",
        "\n",
        "#creating graph by adjacency matrix method\n",
        "G = [ [0, 4, 8, 0, 0, 0, 0, 0, 0],\n",
        "\t\t\t[4, 0, 11, 0, 8, 0, 0, 0, 0],\n",
        "\t\t\t[8, 11, 0, 7, 0, 1, 0, 0, 0],\n",
        "\t\t\t[0, 0, 7, 0, 2, 6, 0, 0, 0],\n",
        "\t\t\t[0, 8, 0, 2, 0, 0, 4, 7, 0],\n",
        "      [0, 0, 1, 6, 0, 0, 2, 0, 0],\n",
        "      [0, 0, 0, 0, 4, 2, 0, 14, 10],\n",
        "      [0, 0, 0, 0, 7, 0, 14, 0, 9],\n",
        "      [0, 0, 0, 0, 0, 0, 10, 9, 0]]\n",
        "\n",
        "selected_node = [0, 0, 0, 0, 0, 0, 0, 0, 0]\n",
        "\n",
        "no_edge = 0\n",
        "\n",
        "selected_node[0] = True\n",
        "\n",
        "# printing for edge and weight\n",
        "print(\"Edge : Weight\\n\")\n",
        "while (no_edge < N - 1):\n",
        "    \n",
        "    minimum = INF\n",
        "    a = 0\n",
        "    b = 0\n",
        "    for m in range(N):\n",
        "        if selected_node[m]:\n",
        "            for n in range(N):\n",
        "                if ((not selected_node[n]) and G[m][n]):  \n",
        "                    # not in selected and there is an edge\n",
        "                    if minimum > G[m][n]:\n",
        "                        minimum = G[m][n]\n",
        "                        a = m\n",
        "                        b = n\n",
        "    print(str(a + 1) + \"-\" + str(b + 1) + \":\" + str(G[a][b]))\n",
        "    selected_node[b] = True\n",
        "    no_edge += 1"
      ]
    }
  ]
}